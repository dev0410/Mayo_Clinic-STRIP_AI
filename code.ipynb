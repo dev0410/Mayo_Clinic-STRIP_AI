{
  "cells": [
    {
      "cell_type": "markdown",
      "source": [
        "# Kaggle Competition: Mayo Clinic - STRIP AI"
      ],
      "metadata": {
        "id": "8hykociVN1_C"
      },
      "id": "8hykociVN1_C"
    },
    {
      "cell_type": "code",
      "source": [
        "import os\n",
        "import tifffile as tifi\n",
        "import matplotlib.pyplot as plt"
      ],
      "metadata": {
        "id": "YigI60VDN53p"
      },
      "id": "YigI60VDN53p",
      "execution_count": null,
      "outputs": []
    }
  ],
  "metadata": {
    "kernelspec": {
      "display_name": "Python 3",
      "language": "python",
      "name": "python3"
    },
    "language_info": {
      "codemirror_mode": {
        "name": "ipython",
        "version": 3
      },
      "file_extension": ".py",
      "mimetype": "text/x-python",
      "name": "python",
      "nbconvert_exporter": "python",
      "pygments_lexer": "ipython3",
      "version": "3.7.12"
    },
    "papermill": {
      "default_parameters": {},
      "duration": 13.264154,
      "end_time": "2022-07-15T13:43:30.794623",
      "environment_variables": {},
      "exception": null,
      "input_path": "__notebook__.ipynb",
      "output_path": "__notebook__.ipynb",
      "parameters": {},
      "start_time": "2022-07-15T13:43:17.530469",
      "version": "2.3.4"
    },
    "colab": {
      "name": "code.ipynb",
      "provenance": []
    }
  },
  "nbformat": 4,
  "nbformat_minor": 5
}